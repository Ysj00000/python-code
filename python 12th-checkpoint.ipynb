{
 "cells": [
  {
   "cell_type": "code",
   "execution_count": 4,
   "id": "a1930223",
   "metadata": {},
   "outputs": [
    {
     "name": "stdout",
     "output_type": "stream",
     "text": [
      "4\n"
     ]
    }
   ],
   "source": [
    "from itertools import combinations \n",
    "\n",
    "def is_prime(num): \n",
    "\n",
    "    if num < 2:\n",
    "        return False\n",
    "    for i in range(2, int(num**0.5) + 1):\n",
    "        if num % i == 0:\n",
    "            return False\n",
    "    return True\n",
    "\n",
    "def solution(nums):\n",
    "    count = 0\n",
    "    for comb in combinations(nums, 3):\n",
    "        if is_prime(sum(comb)):\n",
    "            count += 1\n",
    "    return count\n",
    "nums = [1,2,7,6,4]\n",
    "print(solution(nums))"
   ]
  },
  {
   "cell_type": "markdown",
   "id": "2da20dd5",
   "metadata": {},
   "source": [
    "조합을 이용하기 위해 itertools를 사용하였다.\n",
    "우선 주어진 수가 소수인지 확인하는 함수를 정의하였다. \n",
    "주어진 수가 2이상인 경우에 대해 2부터 주어진 수의 1/2배 까지의 수 중에서 주어진 수를 나누었을 때에 나누어지지 않으면 주어진 수는 소수이다.\n",
    "combinations를 사용하여 nums 리스트에서 3개를 조합한 후 조합한 3개의 수의 합을 구하였다.\n",
    "그 후 소수인지 확인하는 수를 통해 그 수가 소수이면 count에 +1을 하여 count를 출력하는 함수를 구성하였다."
   ]
  },
  {
   "cell_type": "code",
   "execution_count": null,
   "id": "ad02ec83",
   "metadata": {},
   "outputs": [],
   "source": []
  }
 ],
 "metadata": {
  "kernelspec": {
   "display_name": "Python 3 (ipykernel)",
   "language": "python",
   "name": "python3"
  },
  "language_info": {
   "codemirror_mode": {
    "name": "ipython",
    "version": 3
   },
   "file_extension": ".py",
   "mimetype": "text/x-python",
   "name": "python",
   "nbconvert_exporter": "python",
   "pygments_lexer": "ipython3",
   "version": "3.9.12"
  }
 },
 "nbformat": 4,
 "nbformat_minor": 5
}
